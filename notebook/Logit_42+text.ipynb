{
 "cells": [
  {
   "cell_type": "markdown",
   "id": "d0c99949",
   "metadata": {},
   "source": [
    "## Import Libraries ##"
   ]
  },
  {
   "cell_type": "code",
   "execution_count": 1,
   "id": "6d559147",
   "metadata": {},
   "outputs": [],
   "source": [
    "# import necessary libraries\n",
    "import pandas as pd\n",
    "import numpy as np\n",
    "import sklearn as nn\n",
    "import matplotlib.pyplot as plt\n",
    "import seaborn as sns\n",
    "import torch\n",
    "from sklearn.preprocessing import MinMaxScaler\n",
    "from imblearn.under_sampling import RandomUnderSampler\n",
    "from sklearn.metrics import roc_auc_score"
   ]
  },
  {
   "cell_type": "code",
   "execution_count": 4,
   "id": "c774a25e",
   "metadata": {},
   "outputs": [],
   "source": [
    "import math\n",
    "from numpy import vstack\n",
    "from torch.utils.data import Dataset\n",
    "from pandas import read_csv\n",
    "from torch.utils.data import DataLoader\n",
    "from torch.nn import Linear\n",
    "from torch.nn import ReLU\n",
    "from torch.nn import Tanh\n",
    "from torch.nn import Sigmoid\n",
    "from torch.nn import Module\n",
    "from torch.nn.init import kaiming_uniform_\n",
    "from torch.optim import SGD\n",
    "from torch.optim import Adam\n",
    "from torch.nn import BCELoss\n",
    "import torch.nn as nn\n",
    "import time"
   ]
  },
  {
   "cell_type": "markdown",
   "id": "3072d84e",
   "metadata": {},
   "source": [
    "## Loading data sets and Pre-checking on the data ##"
   ]
  },
  {
   "cell_type": "code",
   "execution_count": 9,
   "id": "6c4dd706",
   "metadata": {},
   "outputs": [],
   "source": [
    "# loading the dataset\n",
    "merged_data = pd.read_csv(\"merged_compustat_labels_text.csv\")"
   ]
  },
  {
   "cell_type": "code",
   "execution_count": 10,
   "id": "2a73f5e5",
   "metadata": {},
   "outputs": [
    {
     "name": "stdout",
     "output_type": "stream",
     "text": [
      "shape of the data: (263719, 533)\n"
     ]
    }
   ],
   "source": [
    "# check dimensions of dataset\n",
    "print(\"shape of the data:\", merged_data.shape)"
   ]
  },
  {
   "cell_type": "code",
   "execution_count": 11,
   "id": "51088d43",
   "metadata": {},
   "outputs": [
    {
     "data": {
      "text/html": [
       "<div>\n",
       "<style scoped>\n",
       "    .dataframe tbody tr th:only-of-type {\n",
       "        vertical-align: middle;\n",
       "    }\n",
       "\n",
       "    .dataframe tbody tr th {\n",
       "        vertical-align: top;\n",
       "    }\n",
       "\n",
       "    .dataframe thead th {\n",
       "        text-align: right;\n",
       "    }\n",
       "</style>\n",
       "<table border=\"1\" class=\"dataframe\">\n",
       "  <thead>\n",
       "    <tr style=\"text-align: right;\">\n",
       "      <th></th>\n",
       "      <th>gvkey</th>\n",
       "      <th>datadate</th>\n",
       "      <th>fyear</th>\n",
       "      <th>indfmt</th>\n",
       "      <th>consol</th>\n",
       "      <th>popsrc</th>\n",
       "      <th>datafmt</th>\n",
       "      <th>tic</th>\n",
       "      <th>cusip</th>\n",
       "      <th>conm</th>\n",
       "      <th>...</th>\n",
       "      <th>applicant</th>\n",
       "      <th>guilty</th>\n",
       "      <th>reprehensible</th>\n",
       "      <th>threat</th>\n",
       "      <th>restricting</th>\n",
       "      <th>selfishness</th>\n",
       "      <th>cik_year</th>\n",
       "      <th>ticker_year</th>\n",
       "      <th>cik_str</th>\n",
       "      <th>tic_fyear</th>\n",
       "    </tr>\n",
       "  </thead>\n",
       "  <tbody>\n",
       "    <tr>\n",
       "      <th>0</th>\n",
       "      <td>1003</td>\n",
       "      <td>1990-01-31</td>\n",
       "      <td>1989</td>\n",
       "      <td>INDL</td>\n",
       "      <td>C</td>\n",
       "      <td>D</td>\n",
       "      <td>STD</td>\n",
       "      <td>ANTQ</td>\n",
       "      <td>000354100</td>\n",
       "      <td>A.A. IMPORTING CO INC</td>\n",
       "      <td>...</td>\n",
       "      <td>NaN</td>\n",
       "      <td>NaN</td>\n",
       "      <td>NaN</td>\n",
       "      <td>NaN</td>\n",
       "      <td>NaN</td>\n",
       "      <td>NaN</td>\n",
       "      <td>NaN</td>\n",
       "      <td>NaN</td>\n",
       "      <td>NaN</td>\n",
       "      <td>NaN</td>\n",
       "    </tr>\n",
       "    <tr>\n",
       "      <th>1</th>\n",
       "      <td>1004</td>\n",
       "      <td>1990-05-31</td>\n",
       "      <td>1989</td>\n",
       "      <td>INDL</td>\n",
       "      <td>C</td>\n",
       "      <td>D</td>\n",
       "      <td>STD</td>\n",
       "      <td>AIR</td>\n",
       "      <td>000361105</td>\n",
       "      <td>AAR CORP</td>\n",
       "      <td>...</td>\n",
       "      <td>NaN</td>\n",
       "      <td>NaN</td>\n",
       "      <td>NaN</td>\n",
       "      <td>NaN</td>\n",
       "      <td>NaN</td>\n",
       "      <td>NaN</td>\n",
       "      <td>NaN</td>\n",
       "      <td>NaN</td>\n",
       "      <td>NaN</td>\n",
       "      <td>NaN</td>\n",
       "    </tr>\n",
       "    <tr>\n",
       "      <th>2</th>\n",
       "      <td>1004</td>\n",
       "      <td>1991-05-31</td>\n",
       "      <td>1990</td>\n",
       "      <td>INDL</td>\n",
       "      <td>C</td>\n",
       "      <td>D</td>\n",
       "      <td>STD</td>\n",
       "      <td>AIR</td>\n",
       "      <td>000361105</td>\n",
       "      <td>AAR CORP</td>\n",
       "      <td>...</td>\n",
       "      <td>NaN</td>\n",
       "      <td>NaN</td>\n",
       "      <td>NaN</td>\n",
       "      <td>NaN</td>\n",
       "      <td>NaN</td>\n",
       "      <td>NaN</td>\n",
       "      <td>NaN</td>\n",
       "      <td>NaN</td>\n",
       "      <td>NaN</td>\n",
       "      <td>NaN</td>\n",
       "    </tr>\n",
       "    <tr>\n",
       "      <th>3</th>\n",
       "      <td>1004</td>\n",
       "      <td>1992-05-31</td>\n",
       "      <td>1991</td>\n",
       "      <td>INDL</td>\n",
       "      <td>C</td>\n",
       "      <td>D</td>\n",
       "      <td>STD</td>\n",
       "      <td>AIR</td>\n",
       "      <td>000361105</td>\n",
       "      <td>AAR CORP</td>\n",
       "      <td>...</td>\n",
       "      <td>NaN</td>\n",
       "      <td>NaN</td>\n",
       "      <td>NaN</td>\n",
       "      <td>NaN</td>\n",
       "      <td>NaN</td>\n",
       "      <td>NaN</td>\n",
       "      <td>NaN</td>\n",
       "      <td>NaN</td>\n",
       "      <td>NaN</td>\n",
       "      <td>NaN</td>\n",
       "    </tr>\n",
       "    <tr>\n",
       "      <th>4</th>\n",
       "      <td>1004</td>\n",
       "      <td>1993-05-31</td>\n",
       "      <td>1992</td>\n",
       "      <td>INDL</td>\n",
       "      <td>C</td>\n",
       "      <td>D</td>\n",
       "      <td>STD</td>\n",
       "      <td>AIR</td>\n",
       "      <td>000361105</td>\n",
       "      <td>AAR CORP</td>\n",
       "      <td>...</td>\n",
       "      <td>NaN</td>\n",
       "      <td>NaN</td>\n",
       "      <td>NaN</td>\n",
       "      <td>NaN</td>\n",
       "      <td>NaN</td>\n",
       "      <td>NaN</td>\n",
       "      <td>NaN</td>\n",
       "      <td>NaN</td>\n",
       "      <td>NaN</td>\n",
       "      <td>NaN</td>\n",
       "    </tr>\n",
       "  </tbody>\n",
       "</table>\n",
       "<p>5 rows × 533 columns</p>\n",
       "</div>"
      ],
      "text/plain": [
       "   gvkey    datadate  fyear indfmt consol popsrc datafmt   tic      cusip  \\\n",
       "0   1003  1990-01-31   1989   INDL      C      D     STD  ANTQ  000354100   \n",
       "1   1004  1990-05-31   1989   INDL      C      D     STD   AIR  000361105   \n",
       "2   1004  1991-05-31   1990   INDL      C      D     STD   AIR  000361105   \n",
       "3   1004  1992-05-31   1991   INDL      C      D     STD   AIR  000361105   \n",
       "4   1004  1993-05-31   1992   INDL      C      D     STD   AIR  000361105   \n",
       "\n",
       "                    conm  ... applicant  guilty  reprehensible  threat  \\\n",
       "0  A.A. IMPORTING CO INC  ...       NaN     NaN            NaN     NaN   \n",
       "1               AAR CORP  ...       NaN     NaN            NaN     NaN   \n",
       "2               AAR CORP  ...       NaN     NaN            NaN     NaN   \n",
       "3               AAR CORP  ...       NaN     NaN            NaN     NaN   \n",
       "4               AAR CORP  ...       NaN     NaN            NaN     NaN   \n",
       "\n",
       "   restricting  selfishness  cik_year  ticker_year  cik_str  tic_fyear  \n",
       "0          NaN          NaN       NaN          NaN      NaN        NaN  \n",
       "1          NaN          NaN       NaN          NaN      NaN        NaN  \n",
       "2          NaN          NaN       NaN          NaN      NaN        NaN  \n",
       "3          NaN          NaN       NaN          NaN      NaN        NaN  \n",
       "4          NaN          NaN       NaN          NaN      NaN        NaN  \n",
       "\n",
       "[5 rows x 533 columns]"
      ]
     },
     "execution_count": 11,
     "metadata": {},
     "output_type": "execute_result"
    }
   ],
   "source": [
    "merged_data.head()"
   ]
  },
  {
   "cell_type": "code",
   "execution_count": 14,
   "id": "78237933",
   "metadata": {},
   "outputs": [
    {
     "data": {
      "text/plain": [
       "257596"
      ]
     },
     "execution_count": 14,
     "metadata": {},
     "output_type": "execute_result"
    }
   ],
   "source": [
    "# duplicate value check for the column 'cik_fyear' in dataset \n",
    "\n",
    "merged_data['cik_fyear'].nunique()  "
   ]
  },
  {
   "cell_type": "code",
   "execution_count": null,
   "id": "3a2f4c01",
   "metadata": {},
   "outputs": [],
   "source": [
    "# checking data types of all columns in the dataset 1\n",
    "merged_data.dtypes"
   ]
  },
  {
   "cell_type": "code",
   "execution_count": null,
   "id": "6d100636",
   "metadata": {},
   "outputs": [],
   "source": [
    "# checking for missing data\n",
    "merged_data.isnull().sum()"
   ]
  },
  {
   "cell_type": "code",
   "execution_count": null,
   "id": "1ed1efbb",
   "metadata": {},
   "outputs": [],
   "source": [
    "# checking for blanks\n",
    "\n",
    "blank_values = (merged_data == '').sum()\n",
    "print(blank_values)"
   ]
  },
  {
   "cell_type": "markdown",
   "id": "441ccaa1",
   "metadata": {},
   "source": [
    "## Preprocess merged dataset ##"
   ]
  },
  {
   "cell_type": "markdown",
   "id": "0fec9bc7",
   "metadata": {},
   "source": [
    "### Treating null values ###"
   ]
  },
  {
   "cell_type": "code",
   "execution_count": null,
   "id": "71bdf872",
   "metadata": {},
   "outputs": [],
   "source": [
    "# Filling missing values of merged dataset with 0\n",
    "merged_data = merged_data.fillna(0)\n",
    "\n",
    "# checking for missing data in merged dataset \n",
    "merged_data.isnull().sum()"
   ]
  },
  {
   "cell_type": "code",
   "execution_count": 19,
   "id": "6d7ccdaa",
   "metadata": {},
   "outputs": [],
   "source": [
    "merged_data = merged_data[merged_data.columns].replace([np.inf, -np.inf], 0)"
   ]
  },
  {
   "cell_type": "markdown",
   "id": "d77fb9ff",
   "metadata": {},
   "source": [
    "### Dropping irrelevant columns ###"
   ]
  },
  {
   "cell_type": "code",
   "execution_count": 21,
   "id": "6aa31a52",
   "metadata": {},
   "outputs": [],
   "source": [
    "# Irrelevant columns to drop\n",
    "\n",
    "columns_to_drop = ['Unnamed: 0.2', 'Unnamed: 0.1', 'Unnamed: 0', 'target_word_frequency']\n",
    "\n",
    "merged_data.drop(columns=columns_to_drop, inplace=True)"
   ]
  },
  {
   "cell_type": "code",
   "execution_count": null,
   "id": "256518d4",
   "metadata": {},
   "outputs": [],
   "source": [
    "# checking data types after dropping columns\n",
    "\n",
    "merged_data.dtypes"
   ]
  },
  {
   "cell_type": "markdown",
   "id": "89f0ad70",
   "metadata": {},
   "source": [
    "### Normalisation of numeric columns ###"
   ]
  },
  {
   "cell_type": "code",
   "execution_count": 23,
   "id": "7c037535",
   "metadata": {},
   "outputs": [],
   "source": [
    "exclude_columns = ['gvkey', 'fyear', 'fyr', 'cik', 'sic', 'Bank', 'misstate', 'cik_x', \n",
    "                   'id', 'cik_y', 'year', 'accession_number', 'mda_section', 'cik_str', 'tic_fyear']\n",
    "\n",
    "# Extract numeric columns\n",
    "numeric_columns = merged_data.select_dtypes(include=['float64', 'int64']).columns\n",
    "\n",
    "# Identify columns to normalize\n",
    "columns_to_normalize = [col for col in numeric_columns if col not in exclude_columns]\n"
   ]
  },
  {
   "cell_type": "code",
   "execution_count": null,
   "id": "2ad341f8",
   "metadata": {},
   "outputs": [],
   "source": [
    "# Create a copy of the DataFrame to avoid modifying the original\n",
    "normalized_data = merged_data.copy()\n",
    "\n",
    "# Normalize the numeric columns excluding the specified columns\n",
    "scaler = MinMaxScaler()\n",
    "normalized_data[columns_to_normalize] = scaler.fit_transform(normalized_data[columns_to_normalize])"
   ]
  },
  {
   "cell_type": "markdown",
   "id": "f6175f11",
   "metadata": {},
   "source": [
    "## Training and Test Data ##"
   ]
  },
  {
   "cell_type": "code",
   "execution_count": null,
   "id": "5f1979dc",
   "metadata": {},
   "outputs": [],
   "source": [
    "# checking the data types of the normalized data set\n",
    "normalized_data.dtypes"
   ]
  },
  {
   "cell_type": "markdown",
   "id": "ee020611",
   "metadata": {},
   "source": [
    "### Splitting conditions - There are 14 financial ratios, 28 raw items and 454 text features ###"
   ]
  },
  {
   "cell_type": "code",
   "execution_count": 27,
   "id": "84601a66",
   "metadata": {},
   "outputs": [
    {
     "name": "stdout",
     "output_type": "stream",
     "text": [
      "Index of column 'recklessness' in normalized_data: 71\n"
     ]
    }
   ],
   "source": [
    "# Get the index of first text column\n",
    "\n",
    "column_name_first = 'recklessness'  \n",
    "column_index = normalized_data.columns.get_loc(column_name_first)\n",
    "\n",
    "print(\"Index of column '{}' in normalized_data: {}\".format(column_name_first, column_index))"
   ]
  },
  {
   "cell_type": "code",
   "execution_count": 28,
   "id": "0ce52887",
   "metadata": {},
   "outputs": [
    {
     "name": "stdout",
     "output_type": "stream",
     "text": [
      "Index of column 'selfishness' in normalized_data: 524\n"
     ]
    }
   ],
   "source": [
    "# Get the index of last text column\n",
    "\n",
    "column_name_last = 'selfishness'  \n",
    "column_index = normalized_data.columns.get_loc(column_name_last)\n",
    "\n",
    "print(\"Index of column '{}' in normalized_data: {}\".format(column_name_last, column_index))"
   ]
  },
  {
   "cell_type": "code",
   "execution_count": 29,
   "id": "85e7abc7",
   "metadata": {},
   "outputs": [],
   "source": [
    "# Split features into the specified groups\n",
    "raw_items_28 = ['act', 'ap', 'at', 'ceq', 'che', 'cogs', 'csho', 'dlc', 'dltis', 'dltt', 'dp', 'ib',\n",
    "                       'invt', 'ivao', 'ivst', 'lct', 'lt', 'ni', 'ppegt', 'pstk', 're', 'rect', 'sale', 'sstk',\n",
    "                       'txp', 'txt', 'xint','prcc_f']"
   ]
  },
  {
   "cell_type": "code",
   "execution_count": 30,
   "id": "829edb29",
   "metadata": {},
   "outputs": [],
   "source": [
    "financial_ratios_14 = ['dch_wc', 'ch_rsst', 'dch_rec', 'dch_inv', 'soft_assets', 'ch_cs', 'ch_cm', 'ch_roa', 'bm',\n",
    "                          'dpi', 'reoa', 'EBIT', 'ch_fcf', 'issue']"
   ]
  },
  {
   "cell_type": "code",
   "execution_count": 31,
   "id": "9682c618",
   "metadata": {},
   "outputs": [],
   "source": [
    "raw_items_28_financial_ratios_14 = ['act', 'ap', 'at', 'ceq', 'che', 'cogs', 'csho', 'dlc', 'dltis', 'dltt', 'dp', \n",
    "                                    'ib', 'invt', 'ivao', 'ivst', 'lct', 'lt', 'ni', 'ppegt', 'pstk', 're', 'rect', \n",
    "                                    'sale', 'sstk', 'txp', 'txt', 'xint','prcc_f', \n",
    "                                    'dch_wc', 'ch_rsst', 'dch_rec', 'dch_inv', 'soft_assets','ch_cs', 'ch_cm', \n",
    "                                    'ch_roa', 'bm', 'dpi', 'reoa', 'EBIT', 'ch_fcf', 'issue']"
   ]
  },
  {
   "cell_type": "code",
   "execution_count": 32,
   "id": "a3608896",
   "metadata": {},
   "outputs": [],
   "source": [
    "# Select the raw features, financial ratios and text features from the dataframe\n",
    "\n",
    "raw_features = normalized_data[raw_items_28]\n",
    "\n",
    "financial_ratios = normalized_data[financial_ratios_14]\n",
    "\n",
    "text_features = normalized_data.iloc[:, 71:525]  # As text features start from column index 71 and end at 524\n",
    "\n",
    "raw_features_financial_ratios = normalized_data[raw_items_28_financial_ratios_14]"
   ]
  },
  {
   "cell_type": "code",
   "execution_count": 33,
   "id": "e54f1d61",
   "metadata": {},
   "outputs": [
    {
     "name": "stdout",
     "output_type": "stream",
     "text": [
      "Shape of raw_items_28_fin_ratios_14_text_454 dataframe: (263719, 496)\n"
     ]
    }
   ],
   "source": [
    "# Concatenate the raw features, financial ratios and text features along the columns\n",
    "raw_items_28_fin_ratios_14_text_454 = pd.concat([raw_features_financial_ratios, text_features], axis=1)\n",
    "\n",
    "# Print the shape of the resulting dataframe\n",
    "print(\"Shape of raw_items_28_fin_ratios_14_text_454 dataframe:\", raw_items_28_fin_ratios_14_text_454.shape)"
   ]
  },
  {
   "cell_type": "code",
   "execution_count": 34,
   "id": "69c0d605",
   "metadata": {},
   "outputs": [
    {
     "name": "stdout",
     "output_type": "stream",
     "text": [
      "Shape of raw_items_28_text_454 dataframe: (263719, 482)\n"
     ]
    }
   ],
   "source": [
    "# Concatenate the raw features and text features along the columns\n",
    "raw_items_28_text_454 = pd.concat([raw_features, text_features], axis=1)\n",
    "\n",
    "# Print the shape of the resulting dataframe\n",
    "print(\"Shape of raw_items_28_text_454 dataframe:\", raw_items_28_text_454.shape)"
   ]
  },
  {
   "cell_type": "code",
   "execution_count": 35,
   "id": "5fa4d0ff",
   "metadata": {},
   "outputs": [
    {
     "name": "stdout",
     "output_type": "stream",
     "text": [
      "Shape of fin_ratios_14_text_454 dataframe: (263719, 468)\n"
     ]
    }
   ],
   "source": [
    "# Concatenate the financial ratios and text features along the columns\n",
    "fin_ratios_14_text_454 = pd.concat([financial_ratios, text_features], axis=1)\n",
    "\n",
    "# Print the shape of the resulting dataframe\n",
    "print(\"Shape of fin_ratios_14_text_454 dataframe:\", fin_ratios_14_text_454.shape)"
   ]
  },
  {
   "cell_type": "code",
   "execution_count": 36,
   "id": "a7cd3464",
   "metadata": {},
   "outputs": [
    {
     "name": "stdout",
     "output_type": "stream",
     "text": [
      "Shape of normalized_data dataframe: (263719, 502)\n"
     ]
    }
   ],
   "source": [
    "add_col = ['gvkey', 'fyear', 'tic', 'cik', 'Bank']\n",
    "\n",
    "target_col = ['misstate']\n",
    "\n",
    "# Combine add_col, raw_items_28_fin_ratios_14_text_454, and target_col\n",
    "desired_columns_order = add_col + raw_items_28_fin_ratios_14_text_454.columns.tolist() + target_col\n",
    "\n",
    "# Reorder the columns of normalized_data\n",
    "normalized_data = normalized_data.reindex(columns = desired_columns_order)\n",
    "\n",
    "# Print the shape of the resulting dataframe\n",
    "print(\"Shape of normalized_data dataframe:\", normalized_data.shape)"
   ]
  },
  {
   "cell_type": "code",
   "execution_count": 37,
   "id": "cba3c069",
   "metadata": {},
   "outputs": [
    {
     "data": {
      "text/html": [
       "<div>\n",
       "<style scoped>\n",
       "    .dataframe tbody tr th:only-of-type {\n",
       "        vertical-align: middle;\n",
       "    }\n",
       "\n",
       "    .dataframe tbody tr th {\n",
       "        vertical-align: top;\n",
       "    }\n",
       "\n",
       "    .dataframe thead th {\n",
       "        text-align: right;\n",
       "    }\n",
       "</style>\n",
       "<table border=\"1\" class=\"dataframe\">\n",
       "  <thead>\n",
       "    <tr style=\"text-align: right;\">\n",
       "      <th></th>\n",
       "      <th>gvkey</th>\n",
       "      <th>fyear</th>\n",
       "      <th>tic</th>\n",
       "      <th>cik</th>\n",
       "      <th>Bank</th>\n",
       "      <th>act</th>\n",
       "      <th>ap</th>\n",
       "      <th>at</th>\n",
       "      <th>ceq</th>\n",
       "      <th>che</th>\n",
       "      <th>...</th>\n",
       "      <th>responsible</th>\n",
       "      <th>motive</th>\n",
       "      <th>conviction</th>\n",
       "      <th>applicant</th>\n",
       "      <th>guilty</th>\n",
       "      <th>reprehensible</th>\n",
       "      <th>threat</th>\n",
       "      <th>restricting</th>\n",
       "      <th>selfishness</th>\n",
       "      <th>misstate</th>\n",
       "    </tr>\n",
       "  </thead>\n",
       "  <tbody>\n",
       "    <tr>\n",
       "      <th>0</th>\n",
       "      <td>1003</td>\n",
       "      <td>1989</td>\n",
       "      <td>ANTQ</td>\n",
       "      <td>730052.0</td>\n",
       "      <td>0</td>\n",
       "      <td>0.000071</td>\n",
       "      <td>9.710422e-07</td>\n",
       "      <td>0.000002</td>\n",
       "      <td>0.216608</td>\n",
       "      <td>0.000008</td>\n",
       "      <td>...</td>\n",
       "      <td>0.0</td>\n",
       "      <td>0.0</td>\n",
       "      <td>0.0</td>\n",
       "      <td>0.0</td>\n",
       "      <td>0.0</td>\n",
       "      <td>0.0</td>\n",
       "      <td>0.0</td>\n",
       "      <td>0.0</td>\n",
       "      <td>0.0</td>\n",
       "      <td>0</td>\n",
       "    </tr>\n",
       "    <tr>\n",
       "      <th>1</th>\n",
       "      <td>1004</td>\n",
       "      <td>1989</td>\n",
       "      <td>AIR</td>\n",
       "      <td>1750.0</td>\n",
       "      <td>0</td>\n",
       "      <td>0.001182</td>\n",
       "      <td>1.456401e-05</td>\n",
       "      <td>0.000090</td>\n",
       "      <td>0.216902</td>\n",
       "      <td>0.000011</td>\n",
       "      <td>...</td>\n",
       "      <td>0.0</td>\n",
       "      <td>0.0</td>\n",
       "      <td>0.0</td>\n",
       "      <td>0.0</td>\n",
       "      <td>0.0</td>\n",
       "      <td>0.0</td>\n",
       "      <td>0.0</td>\n",
       "      <td>0.0</td>\n",
       "      <td>0.0</td>\n",
       "      <td>0</td>\n",
       "    </tr>\n",
       "    <tr>\n",
       "      <th>2</th>\n",
       "      <td>1004</td>\n",
       "      <td>1990</td>\n",
       "      <td>AIR</td>\n",
       "      <td>1750.0</td>\n",
       "      <td>0</td>\n",
       "      <td>0.001152</td>\n",
       "      <td>1.426266e-05</td>\n",
       "      <td>0.000088</td>\n",
       "      <td>0.216909</td>\n",
       "      <td>0.000009</td>\n",
       "      <td>...</td>\n",
       "      <td>0.0</td>\n",
       "      <td>0.0</td>\n",
       "      <td>0.0</td>\n",
       "      <td>0.0</td>\n",
       "      <td>0.0</td>\n",
       "      <td>0.0</td>\n",
       "      <td>0.0</td>\n",
       "      <td>0.0</td>\n",
       "      <td>0.0</td>\n",
       "      <td>0</td>\n",
       "    </tr>\n",
       "    <tr>\n",
       "      <th>3</th>\n",
       "      <td>1004</td>\n",
       "      <td>1991</td>\n",
       "      <td>AIR</td>\n",
       "      <td>1750.0</td>\n",
       "      <td>0</td>\n",
       "      <td>0.001240</td>\n",
       "      <td>1.763227e-05</td>\n",
       "      <td>0.000092</td>\n",
       "      <td>0.216914</td>\n",
       "      <td>0.000012</td>\n",
       "      <td>...</td>\n",
       "      <td>0.0</td>\n",
       "      <td>0.0</td>\n",
       "      <td>0.0</td>\n",
       "      <td>0.0</td>\n",
       "      <td>0.0</td>\n",
       "      <td>0.0</td>\n",
       "      <td>0.0</td>\n",
       "      <td>0.0</td>\n",
       "      <td>0.0</td>\n",
       "      <td>0</td>\n",
       "    </tr>\n",
       "    <tr>\n",
       "      <th>4</th>\n",
       "      <td>1004</td>\n",
       "      <td>1992</td>\n",
       "      <td>AIR</td>\n",
       "      <td>1750.0</td>\n",
       "      <td>0</td>\n",
       "      <td>0.001138</td>\n",
       "      <td>1.320918e-05</td>\n",
       "      <td>0.000085</td>\n",
       "      <td>0.216902</td>\n",
       "      <td>0.000010</td>\n",
       "      <td>...</td>\n",
       "      <td>0.0</td>\n",
       "      <td>0.0</td>\n",
       "      <td>0.0</td>\n",
       "      <td>0.0</td>\n",
       "      <td>0.0</td>\n",
       "      <td>0.0</td>\n",
       "      <td>0.0</td>\n",
       "      <td>0.0</td>\n",
       "      <td>0.0</td>\n",
       "      <td>0</td>\n",
       "    </tr>\n",
       "  </tbody>\n",
       "</table>\n",
       "<p>5 rows × 502 columns</p>\n",
       "</div>"
      ],
      "text/plain": [
       "   gvkey  fyear   tic       cik  Bank       act            ap        at  \\\n",
       "0   1003   1989  ANTQ  730052.0     0  0.000071  9.710422e-07  0.000002   \n",
       "1   1004   1989   AIR    1750.0     0  0.001182  1.456401e-05  0.000090   \n",
       "2   1004   1990   AIR    1750.0     0  0.001152  1.426266e-05  0.000088   \n",
       "3   1004   1991   AIR    1750.0     0  0.001240  1.763227e-05  0.000092   \n",
       "4   1004   1992   AIR    1750.0     0  0.001138  1.320918e-05  0.000085   \n",
       "\n",
       "        ceq       che  ...  responsible  motive  conviction  applicant  \\\n",
       "0  0.216608  0.000008  ...          0.0     0.0         0.0        0.0   \n",
       "1  0.216902  0.000011  ...          0.0     0.0         0.0        0.0   \n",
       "2  0.216909  0.000009  ...          0.0     0.0         0.0        0.0   \n",
       "3  0.216914  0.000012  ...          0.0     0.0         0.0        0.0   \n",
       "4  0.216902  0.000010  ...          0.0     0.0         0.0        0.0   \n",
       "\n",
       "   guilty  reprehensible  threat  restricting  selfishness  misstate  \n",
       "0     0.0            0.0     0.0          0.0          0.0         0  \n",
       "1     0.0            0.0     0.0          0.0          0.0         0  \n",
       "2     0.0            0.0     0.0          0.0          0.0         0  \n",
       "3     0.0            0.0     0.0          0.0          0.0         0  \n",
       "4     0.0            0.0     0.0          0.0          0.0         0  \n",
       "\n",
       "[5 rows x 502 columns]"
      ]
     },
     "execution_count": 37,
     "metadata": {},
     "output_type": "execute_result"
    }
   ],
   "source": [
    "normalized_data.head()"
   ]
  },
  {
   "cell_type": "markdown",
   "id": "c90a587b",
   "metadata": {},
   "source": [
    "### Plotting the fraud data over time period ###"
   ]
  },
  {
   "cell_type": "code",
   "execution_count": 43,
   "id": "0a58a8e7",
   "metadata": {},
   "outputs": [
    {
     "data": {
      "image/png": "[encoded data removed]",
      "text/plain": [
       "<Figure size 800x400 with 1 Axes>"
      ]
     },
     "metadata": {},
     "output_type": "display_data"
    },
    {
     "name": "stdout",
     "output_type": "stream",
     "text": [
      "Total number of fraudulant from 2000 to 2019: 898\n",
      "Total number of fraudulant in the training period from 2000 to 2004: 513\n",
      "Total number of fraudulant in the testing period from 2005 to 2019: 385\n"
     ]
    }
   ],
   "source": [
    "# Filter the DataFrame for years from 2000 to 2019\n",
    "filtered_df = normalized_data[(normalized_data['fyear'] >= 2000) & (normalized_data['fyear'] <= 2019)]\n",
    "training_df = normalized_data[(normalized_data['fyear'] >= 2000) & (normalized_data['fyear'] <= 2004)]\n",
    "testing_df = normalized_data[(normalized_data['fyear'] >= 2005) & (normalized_data['fyear'] <= 2019)]\n",
    "\n",
    "# Group by fiscal year and sum misstatements\n",
    "misstatements_by_fyear = filtered_df.groupby('fyear')['misstate'].sum()\n",
    "misstatements_by_fyear_training = training_df.groupby('fyear')['misstate'].sum()\n",
    "misstatements_by_fyear_testing = testing_df.groupby('fyear')['misstate'].sum()\n",
    "\n",
    "# Calculate total misstatements\n",
    "total_misstatements = misstatements_by_fyear.sum()\n",
    "total_misstatements_training = misstatements_by_fyear_training.sum()\n",
    "total_misstatements_testing = misstatements_by_fyear_testing.sum()\n",
    "\n",
    "# Plotting\n",
    "plt.figure(figsize=(8, 4))\n",
    "misstatements_by_fyear.plot(kind='bar')\n",
    "plt.xlabel('Fiscal Year')\n",
    "plt.ylabel('Number of fraudulant')\n",
    "plt.grid(axis='y', linestyle='--', alpha=0.7)\n",
    "plt.xticks(rotation=45)\n",
    "plt.tight_layout()\n",
    "plt.show()\n",
    "\n",
    "# Print total misstatements\n",
    "print(\"Total number of fraudulant from 2000 to 2019:\", total_misstatements)\n",
    "print(\"Total number of fraudulant in the training period from 2000 to 2004:\", total_misstatements_training)\n",
    "print(\"Total number of fraudulant in the testing period from 2005 to 2019:\", total_misstatements_testing)"
   ]
  },
  {
   "cell_type": "markdown",
   "id": "99018a9d",
   "metadata": {},
   "source": [
    "### Train, Test data ###"
   ]
  },
  {
   "cell_type": "code",
   "execution_count": 44,
   "id": "a4c31b37",
   "metadata": {},
   "outputs": [],
   "source": [
    "# Assign Train, and Test periods\n",
    "train_period, test_period = (2000, 2004), (2005, 2019)"
   ]
  },
  {
   "cell_type": "code",
   "execution_count": 45,
   "id": "1155b499",
   "metadata": {},
   "outputs": [],
   "source": [
    "# loading data\n",
    "\n",
    "train_data = normalized_data[(normalized_data['fyear'] >= train_period[0]) & (normalized_data['fyear'] <= train_period[1])]\n",
    "test_data = normalized_data[(normalized_data['fyear'] >= test_period[0]) & (normalized_data['fyear'] <= test_period[1])]"
   ]
  },
  {
   "cell_type": "code",
   "execution_count": 46,
   "id": "cdb91be8",
   "metadata": {},
   "outputs": [],
   "source": [
    "# Extract features (X) and target variable (y) for training and testing\n",
    "X_train = train_data[raw_items_28_fin_ratios_14_text_454.columns]\n",
    "y_train = train_data['misstate']\n",
    "\n",
    "X_test = test_data[raw_items_28_fin_ratios_14_text_454.columns]\n",
    "y_test = test_data['misstate']"
   ]
  },
  {
   "cell_type": "code",
   "execution_count": 47,
   "id": "43c8c797",
   "metadata": {},
   "outputs": [
    {
     "data": {
      "text/plain": [
       "(44213, 496)"
      ]
     },
     "execution_count": 47,
     "metadata": {},
     "output_type": "execute_result"
    }
   ],
   "source": [
    "X_train.shape"
   ]
  },
  {
   "cell_type": "markdown",
   "id": "ce7df913",
   "metadata": {},
   "source": [
    "### Treating undersampling (RUS) ###"
   ]
  },
  {
   "cell_type": "code",
   "execution_count": 48,
   "id": "b57b27bb",
   "metadata": {},
   "outputs": [
    {
     "name": "stdout",
     "output_type": "stream",
     "text": [
      "Training data Shape after under sampling: (1026, 496) (1026,)\n"
     ]
    }
   ],
   "source": [
    "# Undersampling the data\n",
    "rus = RandomUnderSampler()\n",
    "X_train_resampled, y_train_resampled = rus.fit_resample(X_train, y_train)\n",
    "\n",
    "print(\"Training data Shape after under sampling:\", X_train_resampled.shape, y_train_resampled.shape)"
   ]
  },
  {
   "cell_type": "markdown",
   "id": "5fb2fe57",
   "metadata": {},
   "source": [
    "### Extraction of features and preparing the train and test sets with 'misstate' column ###"
   ]
  },
  {
   "cell_type": "code",
   "execution_count": 49,
   "id": "e850e620",
   "metadata": {},
   "outputs": [
    {
     "name": "stdout",
     "output_type": "stream",
     "text": [
      "Index of column 'recklessness' in normalized_data: 47\n"
     ]
    }
   ],
   "source": [
    "# Get the index of first text column\n",
    "\n",
    "column_name_first_ = 'recklessness'  \n",
    "column_index_ = normalized_data.columns.get_loc(column_name_first_)\n",
    "\n",
    "print(\"Index of column '{}' in normalized_data: {}\".format(column_name_first_, column_index_))"
   ]
  },
  {
   "cell_type": "code",
   "execution_count": 50,
   "id": "a710dcef",
   "metadata": {},
   "outputs": [
    {
     "name": "stdout",
     "output_type": "stream",
     "text": [
      "Index of column 'selfishness' in normalized_data: 500\n"
     ]
    }
   ],
   "source": [
    "column_name_last_ = 'selfishness'  \n",
    "column_index_ = normalized_data.columns.get_loc(column_name_last_)\n",
    "\n",
    "print(\"Index of column '{}' in normalized_data: {}\".format(column_name_last_, column_index_))"
   ]
  },
  {
   "cell_type": "code",
   "execution_count": 51,
   "id": "6abb7665",
   "metadata": {},
   "outputs": [],
   "source": [
    "text_items_454 = normalized_data.iloc[:, 47:501]"
   ]
  },
  {
   "cell_type": "code",
   "execution_count": 52,
   "id": "953ec3b1",
   "metadata": {},
   "outputs": [
    {
     "data": {
      "text/html": [
       "<div>\n",
       "<style scoped>\n",
       "    .dataframe tbody tr th:only-of-type {\n",
       "        vertical-align: middle;\n",
       "    }\n",
       "\n",
       "    .dataframe tbody tr th {\n",
       "        vertical-align: top;\n",
       "    }\n",
       "\n",
       "    .dataframe thead th {\n",
       "        text-align: right;\n",
       "    }\n",
       "</style>\n",
       "<table border=\"1\" class=\"dataframe\">\n",
       "  <thead>\n",
       "    <tr style=\"text-align: right;\">\n",
       "      <th></th>\n",
       "      <th>recklessness</th>\n",
       "      <th>guarantor</th>\n",
       "      <th>hazard</th>\n",
       "      <th>constrains</th>\n",
       "      <th>despicable</th>\n",
       "      <th>refusal</th>\n",
       "      <th>restitution</th>\n",
       "      <th>dependance</th>\n",
       "      <th>constrain</th>\n",
       "      <th>prevented</th>\n",
       "      <th>...</th>\n",
       "      <th>condemnation</th>\n",
       "      <th>responsible</th>\n",
       "      <th>motive</th>\n",
       "      <th>conviction</th>\n",
       "      <th>applicant</th>\n",
       "      <th>guilty</th>\n",
       "      <th>reprehensible</th>\n",
       "      <th>threat</th>\n",
       "      <th>restricting</th>\n",
       "      <th>selfishness</th>\n",
       "    </tr>\n",
       "  </thead>\n",
       "  <tbody>\n",
       "    <tr>\n",
       "      <th>0</th>\n",
       "      <td>0.0</td>\n",
       "      <td>0.0</td>\n",
       "      <td>0.0</td>\n",
       "      <td>0.0</td>\n",
       "      <td>0.0</td>\n",
       "      <td>0.0</td>\n",
       "      <td>0.0</td>\n",
       "      <td>0.0</td>\n",
       "      <td>0.0</td>\n",
       "      <td>0.0</td>\n",
       "      <td>...</td>\n",
       "      <td>0.0</td>\n",
       "      <td>0.0</td>\n",
       "      <td>0.0</td>\n",
       "      <td>0.0</td>\n",
       "      <td>0.0</td>\n",
       "      <td>0.0</td>\n",
       "      <td>0.0</td>\n",
       "      <td>0.0</td>\n",
       "      <td>0.0</td>\n",
       "      <td>0.0</td>\n",
       "    </tr>\n",
       "    <tr>\n",
       "      <th>1</th>\n",
       "      <td>0.0</td>\n",
       "      <td>0.0</td>\n",
       "      <td>0.0</td>\n",
       "      <td>0.0</td>\n",
       "      <td>0.0</td>\n",
       "      <td>0.0</td>\n",
       "      <td>0.0</td>\n",
       "      <td>0.0</td>\n",
       "      <td>0.0</td>\n",
       "      <td>0.0</td>\n",
       "      <td>...</td>\n",
       "      <td>0.0</td>\n",
       "      <td>0.0</td>\n",
       "      <td>0.0</td>\n",
       "      <td>0.0</td>\n",
       "      <td>0.0</td>\n",
       "      <td>0.0</td>\n",
       "      <td>0.0</td>\n",
       "      <td>0.0</td>\n",
       "      <td>0.0</td>\n",
       "      <td>0.0</td>\n",
       "    </tr>\n",
       "    <tr>\n",
       "      <th>2</th>\n",
       "      <td>0.0</td>\n",
       "      <td>0.0</td>\n",
       "      <td>0.0</td>\n",
       "      <td>0.0</td>\n",
       "      <td>0.0</td>\n",
       "      <td>0.0</td>\n",
       "      <td>0.0</td>\n",
       "      <td>0.0</td>\n",
       "      <td>0.0</td>\n",
       "      <td>0.0</td>\n",
       "      <td>...</td>\n",
       "      <td>0.0</td>\n",
       "      <td>0.0</td>\n",
       "      <td>0.0</td>\n",
       "      <td>0.0</td>\n",
       "      <td>0.0</td>\n",
       "      <td>0.0</td>\n",
       "      <td>0.0</td>\n",
       "      <td>0.0</td>\n",
       "      <td>0.0</td>\n",
       "      <td>0.0</td>\n",
       "    </tr>\n",
       "    <tr>\n",
       "      <th>3</th>\n",
       "      <td>0.0</td>\n",
       "      <td>0.0</td>\n",
       "      <td>0.0</td>\n",
       "      <td>0.0</td>\n",
       "      <td>0.0</td>\n",
       "      <td>0.0</td>\n",
       "      <td>0.0</td>\n",
       "      <td>0.0</td>\n",
       "      <td>0.0</td>\n",
       "      <td>0.0</td>\n",
       "      <td>...</td>\n",
       "      <td>0.0</td>\n",
       "      <td>0.0</td>\n",
       "      <td>0.0</td>\n",
       "      <td>0.0</td>\n",
       "      <td>0.0</td>\n",
       "      <td>0.0</td>\n",
       "      <td>0.0</td>\n",
       "      <td>0.0</td>\n",
       "      <td>0.0</td>\n",
       "      <td>0.0</td>\n",
       "    </tr>\n",
       "    <tr>\n",
       "      <th>4</th>\n",
       "      <td>0.0</td>\n",
       "      <td>0.0</td>\n",
       "      <td>0.0</td>\n",
       "      <td>0.0</td>\n",
       "      <td>0.0</td>\n",
       "      <td>0.0</td>\n",
       "      <td>0.0</td>\n",
       "      <td>0.0</td>\n",
       "      <td>0.0</td>\n",
       "      <td>0.0</td>\n",
       "      <td>...</td>\n",
       "      <td>0.0</td>\n",
       "      <td>0.0</td>\n",
       "      <td>0.0</td>\n",
       "      <td>0.0</td>\n",
       "      <td>0.0</td>\n",
       "      <td>0.0</td>\n",
       "      <td>0.0</td>\n",
       "      <td>0.0</td>\n",
       "      <td>0.0</td>\n",
       "      <td>0.0</td>\n",
       "    </tr>\n",
       "  </tbody>\n",
       "</table>\n",
       "<p>5 rows × 454 columns</p>\n",
       "</div>"
      ],
      "text/plain": [
       "   recklessness  guarantor  hazard  constrains  despicable  refusal  \\\n",
       "0           0.0        0.0     0.0         0.0         0.0      0.0   \n",
       "1           0.0        0.0     0.0         0.0         0.0      0.0   \n",
       "2           0.0        0.0     0.0         0.0         0.0      0.0   \n",
       "3           0.0        0.0     0.0         0.0         0.0      0.0   \n",
       "4           0.0        0.0     0.0         0.0         0.0      0.0   \n",
       "\n",
       "   restitution  dependance  constrain  prevented  ...  condemnation  \\\n",
       "0          0.0         0.0        0.0        0.0  ...           0.0   \n",
       "1          0.0         0.0        0.0        0.0  ...           0.0   \n",
       "2          0.0         0.0        0.0        0.0  ...           0.0   \n",
       "3          0.0         0.0        0.0        0.0  ...           0.0   \n",
       "4          0.0         0.0        0.0        0.0  ...           0.0   \n",
       "\n",
       "   responsible  motive  conviction  applicant  guilty  reprehensible  threat  \\\n",
       "0          0.0     0.0         0.0        0.0     0.0            0.0     0.0   \n",
       "1          0.0     0.0         0.0        0.0     0.0            0.0     0.0   \n",
       "2          0.0     0.0         0.0        0.0     0.0            0.0     0.0   \n",
       "3          0.0     0.0         0.0        0.0     0.0            0.0     0.0   \n",
       "4          0.0     0.0         0.0        0.0     0.0            0.0     0.0   \n",
       "\n",
       "   restricting  selfishness  \n",
       "0          0.0          0.0  \n",
       "1          0.0          0.0  \n",
       "2          0.0          0.0  \n",
       "3          0.0          0.0  \n",
       "4          0.0          0.0  \n",
       "\n",
       "[5 rows x 454 columns]"
      ]
     },
     "execution_count": 52,
     "metadata": {},
     "output_type": "execute_result"
    }
   ],
   "source": [
    "text_items_454.head()"
   ]
  },
  {
   "cell_type": "code",
   "execution_count": 53,
   "id": "7760c96b",
   "metadata": {},
   "outputs": [],
   "source": [
    "# Extract raw items for training set\n",
    "X_train_resampled_28 = X_train_resampled.loc[:, raw_items_28]\n",
    "y_train_resampled_28 = y_train_resampled\n",
    "\n",
    "# Extract raw items for testing set\n",
    "X_test_28 = X_test.loc[:, raw_items_28]\n",
    "y_test_28 = y_test\n"
   ]
  },
  {
   "cell_type": "code",
   "execution_count": 54,
   "id": "4d605f6a",
   "metadata": {},
   "outputs": [],
   "source": [
    "# Extract financial ratios for training set\n",
    "X_train_resampled_14 = X_train_resampled.loc[:, financial_ratios_14]\n",
    "y_train_resampled_14 = y_train_resampled\n",
    "\n",
    "# Extract financial ratios for training set\n",
    "X_test_14 = X_test.loc[:, financial_ratios_14]\n",
    "y_test_14 = y_test"
   ]
  },
  {
   "cell_type": "code",
   "execution_count": 55,
   "id": "11e60df3",
   "metadata": {},
   "outputs": [],
   "source": [
    "# Define the text feature column names\n",
    "text_feature_columns = text_items_454.columns.tolist()\n",
    "\n",
    "# Remove the target column from text feature columns if present\n",
    "#text_feature_columns = [col for col in text_feature_columns if col != 'misstate']\n",
    "\n",
    "# Extract text features for training set\n",
    "X_train_resampled_454 = X_train_resampled.loc[:, text_feature_columns]\n",
    "y_train_resampled_454 = y_train_resampled\n",
    "\n",
    "# Extract text features for testing set\n",
    "X_test_454 = X_test.loc[:, text_feature_columns]\n",
    "y_test_454 = y_test\n"
   ]
  },
  {
   "cell_type": "code",
   "execution_count": 118,
   "id": "038576a4",
   "metadata": {},
   "outputs": [],
   "source": [
    "raw_items_28_financial_ratios_14 = ['act', 'ap', 'at', 'ceq', 'che', 'cogs', 'csho', 'dlc', 'dltis', 'dltt', 'dp', \n",
    "                                    'ib', 'invt', 'ivao', 'ivst', 'lct', 'lt', 'ni', 'ppegt', 'pstk', 're', 'rect', \n",
    "                                    'sale', 'sstk', 'txp', 'txt', 'xint','prcc_f', \n",
    "                                    'dch_wc', 'ch_rsst', 'dch_rec', 'dch_inv', 'soft_assets','ch_cs', 'ch_cm', \n",
    "                                    'ch_roa', 'bm', 'dpi', 'reoa', 'EBIT', 'ch_fcf', 'issue']\n",
    "\n",
    "# Extract financial ratios and raw items for training set\n",
    "X_train_resampled_42 = X_train_resampled.loc[:, raw_items_28_financial_ratios_14]\n",
    "y_train_resampled_42 = y_train_resampled\n",
    "\n",
    "# Extract financial ratios and raw items for training set\n",
    "X_test_42 = X_test.loc[:, raw_items_28_financial_ratios_14]\n",
    "y_test_42 = y_test"
   ]
  },
  {
   "cell_type": "code",
   "execution_count": 141,
   "id": "8509b6fd",
   "metadata": {},
   "outputs": [
    {
     "name": "stdout",
     "output_type": "stream",
     "text": [
      "Shape of financial_14_text_454 dataframe: (263719, 468)\n"
     ]
    }
   ],
   "source": [
    "financial_ratios_14 = ['dch_wc', 'ch_rsst', 'dch_rec', 'dch_inv', 'soft_assets', 'ch_cs', 'ch_cm', 'ch_roa', 'bm',\n",
    "                          'dpi', 'reoa', 'EBIT', 'ch_fcf', 'issue']\n",
    "\n",
    "\n",
    "# Select the raw features and text features from the dataframe\n",
    "financial_features = normalized_data[financial_ratios_14]\n",
    "text_features = normalized_data.iloc[:, 47:501]  # As text features start from column index 47 and end at 500\n",
    "\n",
    "\n",
    "# Concatenate the raw features and text features along the columns\n",
    "financial_14_text_454 = pd.concat([financial_features, text_features], axis=1)\n",
    "\n",
    "# Print the shape of the resulting dataframe\n",
    "print(\"Shape of financial_14_text_454 dataframe:\", financial_14_text_454.shape)\n"
   ]
  },
  {
   "cell_type": "code",
   "execution_count": 143,
   "id": "50cbe48b",
   "metadata": {},
   "outputs": [],
   "source": [
    "# Extract financial ratios and text for training set\n",
    "X_train_resampled_468 = X_train_resampled[financial_14_text_454.columns]\n",
    "y_train_resampled_468 = y_train_resampled\n",
    "\n",
    "# Extract financial ratios and text items for training set\n",
    "X_test_468 = X_test[financial_14_text_454.columns]\n",
    "y_test_468 = y_test"
   ]
  },
  {
   "cell_type": "code",
   "execution_count": 136,
   "id": "c911b702",
   "metadata": {},
   "outputs": [
    {
     "name": "stdout",
     "output_type": "stream",
     "text": [
      "Shape of raw_items_28_text_454 dataframe: (263719, 482)\n"
     ]
    }
   ],
   "source": [
    "raw_items_28 = ['act', 'ap', 'at', 'ceq', 'che', 'cogs', 'csho', 'dlc', 'dltis', 'dltt', 'dp', 'ib',\n",
    "                       'invt', 'ivao', 'ivst', 'lct', 'lt', 'ni', 'ppegt', 'pstk', 're', 'rect', 'sale', 'sstk',\n",
    "                       'txp', 'txt', 'xint','prcc_f']\n",
    "\n",
    "# Select the raw features and text features from the dataframe\n",
    "raw_features = normalized_data[raw_items_28]\n",
    "text_features = normalized_data.iloc[:, 47:501]  # As text features start from column index 47 and end at 500\n",
    "\n",
    "\n",
    "# Concatenate the raw features and text features along the columns\n",
    "raw_items_28_text_454 = pd.concat([raw_features, text_features], axis=1)\n",
    "\n",
    "# Print the shape of the resulting dataframe\n",
    "print(\"Shape of raw_items_28_text_454 dataframe:\", raw_items_28_text_454.shape)"
   ]
  },
  {
   "cell_type": "code",
   "execution_count": 138,
   "id": "884f309f",
   "metadata": {},
   "outputs": [],
   "source": [
    "# Extract text and raw items for training set\n",
    "X_train_resampled_482 = X_train_resampled[raw_items_28_text_454.columns]\n",
    "y_train_resampled_482 = y_train_resampled\n",
    "\n",
    "# Extract text and raw items for testing set\n",
    "X_test_482 = X_test[raw_items_28_text_454.columns]\n",
    "y_test_482 = y_test"
   ]
  },
  {
   "cell_type": "code",
   "execution_count": 56,
   "id": "44fefe1f",
   "metadata": {},
   "outputs": [],
   "source": [
    "merged_train_data = pd.concat([X_train_resampled, y_train_resampled], axis = 1)\n",
    "merged_test_data = pd.concat([X_test, y_test], axis = 1)\n",
    "\n",
    "merged_train_data_28 = pd.concat([X_train_resampled_28, y_train_resampled_28], axis = 1)\n",
    "merged_test_data_28 = pd.concat([X_test_28, y_test_28], axis = 1)\n",
    "\n",
    "merged_train_data_454 = pd.concat([X_train_resampled_454, y_train_resampled_454], axis = 1)\n",
    "merged_test_data_454 = pd.concat([X_test_454, y_test_454], axis = 1)\n",
    "\n",
    "merged_train_data_14 = pd.concat([X_train_resampled_14, y_train_resampled_14], axis = 1)\n",
    "merged_test_data_14 = pd.concat([X_test_14, y_test_14], axis = 1)"
   ]
  },
  {
   "cell_type": "code",
   "execution_count": 119,
   "id": "bdc9ae9c",
   "metadata": {},
   "outputs": [],
   "source": [
    "merged_train_data_42 = pd.concat([X_train_resampled_42, y_train_resampled_42], axis = 1)\n",
    "merged_test_data_42 = pd.concat([X_test_42, y_test_42], axis = 1)"
   ]
  },
  {
   "cell_type": "code",
   "execution_count": 139,
   "id": "768834db",
   "metadata": {},
   "outputs": [],
   "source": [
    "merged_train_data_482 = pd.concat([X_train_resampled_482, y_train_resampled_482], axis = 1)\n",
    "merged_test_data_482 = pd.concat([X_test_482, y_test_482], axis = 1)"
   ]
  },
  {
   "cell_type": "code",
   "execution_count": 144,
   "id": "a3887687",
   "metadata": {},
   "outputs": [],
   "source": [
    "merged_train_data_468 = pd.concat([X_train_resampled_468, y_train_resampled_468], axis = 1)\n",
    "merged_test_data_468 = pd.concat([X_test_468, y_test_468], axis = 1)"
   ]
  },
  {
   "cell_type": "code",
   "execution_count": 58,
   "id": "9f152242",
   "metadata": {},
   "outputs": [],
   "source": [
    "# Saving to drive/ folder\n",
    "\n",
    "merged_train_data.to_csv('D:/Project Work/data_42_text/merged_train_data.csv', index=False)\n",
    "merged_test_data.to_csv('D:/Project Work/data_42_text/merged_test_data.csv', index=False)\n",
    "\n",
    "merged_train_data_28.to_csv('D:/Project Work/data_42_text/merged_train_data_28.csv', index=False)\n",
    "merged_test_data_28.to_csv('D:/Project Work/data_42_text/merged_test_data_28.csv', index=False)\n",
    "\n",
    "merged_train_data_454.to_csv('D:/Project Work/data_42_text/merged_train_data_454.csv', index=False)\n",
    "merged_test_data_454.to_csv('D:/Project Work/data_42_text/merged_test_data_454.csv', index=False)\n",
    "\n",
    "merged_train_data_14.to_csv('D:/Project Work/data_42_text/merged_train_data_14.csv', index=False)\n",
    "merged_test_data_14.to_csv('D:/Project Work/data_42_text/merged_test_data_14.csv', index=False)"
   ]
  },
  {
   "cell_type": "code",
   "execution_count": 120,
   "id": "0d836366",
   "metadata": {},
   "outputs": [],
   "source": [
    "merged_train_data_42.to_csv('D:/Project Work/data_42_text/merged_train_data_42.csv', index=False)\n",
    "merged_test_data_42.to_csv('D:/Project Work/data_42_text/merged_test_data_42.csv', index=False)"
   ]
  },
  {
   "cell_type": "code",
   "execution_count": 140,
   "id": "bb573e70",
   "metadata": {},
   "outputs": [],
   "source": [
    "merged_train_data_482.to_csv('D:/Project Work/data_42_text/merged_train_data_482.csv', index=False)\n",
    "merged_test_data_482.to_csv('D:/Project Work/data_42_text/merged_test_data_482.csv', index=False)"
   ]
  },
  {
   "cell_type": "code",
   "execution_count": 145,
   "id": "73f50806",
   "metadata": {},
   "outputs": [],
   "source": [
    "merged_train_data_468.to_csv('D:/Project Work/data_42_text/merged_train_data_468.csv', index=False)\n",
    "merged_test_data_468.to_csv('D:/Project Work/data_42_text/merged_test_data_468.csv', index=False)"
   ]
  },
  {
   "cell_type": "markdown",
   "id": "2d625528",
   "metadata": {},
   "source": [
    "## Model Training with Logit ##"
   ]
  },
  {
   "cell_type": "code",
   "execution_count": 146,
   "id": "55a43aba",
   "metadata": {},
   "outputs": [],
   "source": [
    "class CSVDataset(Dataset):\n",
    "    #Constructor for initially loading\n",
    "    def __init__(self, path):\n",
    "        df = read_csv(path, header=0)\n",
    "        self.X = df.values[0:, :-1]\n",
    "        self.y = df.values[0:, -1]\n",
    "        self.X = self.X.astype('float32')\n",
    "        self.y = self.y.astype('float32')\n",
    "        self.y = self.y.reshape((len(self.y), 1))\n",
    "\n",
    "        print(self.X.shape)\n",
    "        print(self.y.shape)\n",
    "\n",
    "    # Get the number of rows in the dataset\n",
    "    def __len__(self):\n",
    "        return len(self.X)\n",
    "    # Get a row at an index\n",
    "    def __getitem__(self,idx):\n",
    "        return [self.X[idx], self.y[idx]]"
   ]
  },
  {
   "cell_type": "code",
   "execution_count": 147,
   "id": "23928f6b",
   "metadata": {},
   "outputs": [],
   "source": [
    "def prepare_train_dataset(path):\n",
    "    train1 = CSVDataset(path)\n",
    "    train_dl = DataLoader(train1, batch_size = 1026, shuffle=False)\n",
    "    return train_dl\n",
    "\n",
    "def prepare_test_dataset(path):\n",
    "    test1 = CSVDataset(path)\n",
    "    test_dl = DataLoader(test1, batch_size = 1024, shuffle=False)\n",
    "    return test_dl"
   ]
  },
  {
   "cell_type": "code",
   "execution_count": 87,
   "id": "0c09f727",
   "metadata": {},
   "outputs": [
    {
     "name": "stdout",
     "output_type": "stream",
     "text": [
      "(1026, 496)\n",
      "(1026, 1)\n",
      "(108811, 496)\n",
      "(108811, 1)\n",
      "(1026, 28)\n",
      "(1026, 1)\n",
      "(108811, 28)\n",
      "(108811, 1)\n",
      "(1026, 454)\n",
      "(1026, 1)\n",
      "(108811, 454)\n",
      "(108811, 1)\n",
      "(1026, 14)\n",
      "(1026, 1)\n",
      "(108811, 14)\n",
      "(108811, 1)\n"
     ]
    }
   ],
   "source": [
    "# Importing the data sets from saved folder\n",
    "\n",
    "train_dl_496 = prepare_train_dataset('D:/Project Work/data_42_text/merged_train_data.csv')\n",
    "test_dl_496 = prepare_test_dataset('D:/Project Work/data_42_text/merged_test_data.csv')\n",
    "\n",
    "train_dl_28 = prepare_train_dataset('D:/Project Work/data_42_text/merged_train_data_28.csv')\n",
    "test_dl_28 = prepare_test_dataset('D:/Project Work/data_42_text/merged_test_data_28.csv')\n",
    "\n",
    "train_dl_454 = prepare_train_dataset('D:/Project Work/data_42_text/merged_train_data_454.csv')\n",
    "test_dl_454 = prepare_test_dataset('D:/Project Work/data_42_text/merged_test_data_454.csv')\n",
    "\n",
    "train_dl_14 = prepare_train_dataset('D:/Project Work/data_42_text/merged_train_data_14.csv')\n",
    "test_dl_14 = prepare_test_dataset('D:/Project Work/data_42_text/merged_test_data_14.csv')"
   ]
  },
  {
   "cell_type": "code",
   "execution_count": 121,
   "id": "dd9c36d8",
   "metadata": {},
   "outputs": [
    {
     "name": "stdout",
     "output_type": "stream",
     "text": [
      "(1026, 42)\n",
      "(1026, 1)\n",
      "(108811, 42)\n",
      "(108811, 1)\n"
     ]
    }
   ],
   "source": [
    "train_dl_42 = prepare_train_dataset('D:/Project Work/data_42_text/merged_train_data_42.csv')\n",
    "test_dl_42 = prepare_test_dataset('D:/Project Work/data_42_text/merged_test_data_42.csv')"
   ]
  },
  {
   "cell_type": "code",
   "execution_count": 148,
   "id": "a33195ff",
   "metadata": {},
   "outputs": [
    {
     "name": "stdout",
     "output_type": "stream",
     "text": [
      "(1026, 482)\n",
      "(1026, 1)\n",
      "(108811, 482)\n",
      "(108811, 1)\n"
     ]
    }
   ],
   "source": [
    "train_dl_482 = prepare_train_dataset('D:/Project Work/data_42_text/merged_train_data_482.csv')\n",
    "test_dl_482 = prepare_test_dataset('D:/Project Work/data_42_text/merged_test_data_482.csv')"
   ]
  },
  {
   "cell_type": "code",
   "execution_count": 149,
   "id": "44d126da",
   "metadata": {},
   "outputs": [
    {
     "name": "stdout",
     "output_type": "stream",
     "text": [
      "(1026, 468)\n",
      "(1026, 1)\n",
      "(108811, 468)\n",
      "(108811, 1)\n"
     ]
    }
   ],
   "source": [
    "train_dl_468 = prepare_train_dataset('D:/Project Work/data_42_text/merged_train_data_468.csv')\n",
    "test_dl_468 = prepare_test_dataset('D:/Project Work/data_42_text/merged_test_data_468.csv')"
   ]
  },
  {
   "cell_type": "markdown",
   "id": "3f7bf283",
   "metadata": {},
   "source": [
    "### Logistic Regression  ###"
   ]
  },
  {
   "cell_type": "code",
   "execution_count": 150,
   "id": "7eee02b4",
   "metadata": {},
   "outputs": [],
   "source": [
    "class Logistic_Regression(nn.Module):\n",
    "    def __init__(self, num_features):\n",
    "        super().__init__()\n",
    "        self.layer0 = nn.Linear(in_features=num_features, out_features=1)\n",
    "        self.sigmoid = nn.Sigmoid()\n",
    "\n",
    "    def forward(self, x):\n",
    "        x = self.layer0(x)\n",
    "        x = self.sigmoid(x)\n",
    "        return x"
   ]
  },
  {
   "cell_type": "code",
   "execution_count": 151,
   "id": "6f6dfa3c",
   "metadata": {},
   "outputs": [],
   "source": [
    "# Function to train the model\n",
    "\n",
    "def train_model(model, train_dl, num_epochs):\n",
    "\n",
    "    # Define loss function and optimizer\n",
    "    criterion = torch.nn.BCELoss()\n",
    "    optimizer = torch.optim.SGD(model.parameters(), lr=0.01, momentum=0.9)\n",
    "\n",
    "    for epoch in range(num_epochs):\n",
    "        model.train()\n",
    "        running_loss = 0.0\n",
    "        for inputs, labels in train_dl:\n",
    "            optimizer.zero_grad()\n",
    "            outputs = model(inputs.float())\n",
    "            labels = labels.float()\n",
    "            loss = criterion(outputs, labels)\n",
    "            loss.backward()\n",
    "            optimizer.step()\n",
    "            running_loss += loss.item() * inputs.size(0)\n",
    "        epoch_loss = running_loss / len(train_dl.dataset)"
   ]
  },
  {
   "cell_type": "code",
   "execution_count": 152,
   "id": "df87e36c",
   "metadata": {},
   "outputs": [],
   "source": [
    "# Function for model evaluation\n",
    "\n",
    "def evaluate_model(model, test_dl):\n",
    "    model.eval()\n",
    "    y_true = []\n",
    "    y_pred = []\n",
    "    with torch.no_grad():\n",
    "        for inputs, labels in test_dl:\n",
    "            outputs = model(inputs.float())\n",
    "            y_true.extend(labels.numpy())\n",
    "            y_pred.extend(outputs.numpy().flatten())\n",
    "    auc = roc_auc_score(y_true, y_pred)\n",
    "    print(f\"AUC: {auc:.4f}\")"
   ]
  },
  {
   "cell_type": "code",
   "execution_count": 91,
   "id": "017e3eec",
   "metadata": {},
   "outputs": [],
   "source": [
    "model_496 = Logistic_Regression(496)"
   ]
  },
  {
   "cell_type": "code",
   "execution_count": 92,
   "id": "413148a1",
   "metadata": {},
   "outputs": [],
   "source": [
    "train_model(model_496, train_dl_496, num_epochs=150)"
   ]
  },
  {
   "cell_type": "code",
   "execution_count": 94,
   "id": "7807bd2a",
   "metadata": {},
   "outputs": [
    {
     "name": "stdout",
     "output_type": "stream",
     "text": [
      "AUC: 0.5956\n"
     ]
    }
   ],
   "source": [
    "evaluate_model(model_496, test_dl_496)"
   ]
  },
  {
   "cell_type": "markdown",
   "id": "1b10be07",
   "metadata": {},
   "source": [
    "## Model performance check ##  "
   ]
  },
  {
   "cell_type": "markdown",
   "id": "f3582760",
   "metadata": {},
   "source": [
    "### Evaluate for total data with 28 raw items, 14 financial ratios and 454 text features  ###"
   ]
  },
  {
   "cell_type": "code",
   "execution_count": 96,
   "id": "d2afb816",
   "metadata": {},
   "outputs": [
    {
     "name": "stdout",
     "output_type": "stream",
     "text": [
      "Run 1: AUC = 0.5908\n",
      "Run 2: AUC = 0.5889\n",
      "Run 3: AUC = 0.5657\n",
      "Run 4: AUC = 0.5776\n",
      "Run 5: AUC = 0.5823\n",
      "Run 6: AUC = 0.5854\n",
      "Run 7: AUC = 0.5951\n",
      "Run 8: AUC = 0.5765\n",
      "Run 9: AUC = 0.5879\n",
      "Run 10: AUC = 0.5762\n",
      "\n",
      "Average AUC: 0.5826\n",
      "Standard Deviation of AUC: 0.0083\n"
     ]
    }
   ],
   "source": [
    "auc_values = []\n",
    "\n",
    "# Perform 10 training runs\n",
    "for i in range(10):\n",
    "    model_496 = Logistic_Regression(496)\n",
    "    train_model(model_496, train_dl_496, num_epochs=150)\n",
    "\n",
    "    # Evaluate the model\n",
    "    model_496.eval()\n",
    "    y_true = []\n",
    "    y_pred = []\n",
    "    with torch.no_grad():\n",
    "        for inputs, labels in test_dl_496:\n",
    "            outputs = model_496(inputs.float())\n",
    "            y_true.extend(labels.numpy())\n",
    "            y_pred.extend(outputs.numpy().flatten())\n",
    "    auc = roc_auc_score(y_true, y_pred)\n",
    "    auc_values.append(auc)  # Append AUC to the list\n",
    "    print(f\"Run {i+1}: AUC = {auc:.4f}\")\n",
    "\n",
    "# Calculate the average AUC\n",
    "average_auc = np.mean(auc_values)\n",
    "print(f\"\\nAverage AUC: {average_auc:.4f}\")\n",
    "\n",
    "# Calculate the std AUC\n",
    "auc_std_dev = np.std(auc_values)\n",
    "print(f\"Standard Deviation of AUC: {auc_std_dev:.4f}\")"
   ]
  },
  {
   "cell_type": "markdown",
   "id": "a42278f2",
   "metadata": {},
   "source": [
    "### Evaluate for 28 raw items  ###"
   ]
  },
  {
   "cell_type": "code",
   "execution_count": 131,
   "id": "fcf11eac",
   "metadata": {},
   "outputs": [],
   "source": [
    "model_28 = Logistic_Regression(28)"
   ]
  },
  {
   "cell_type": "code",
   "execution_count": 133,
   "id": "54ec718b",
   "metadata": {},
   "outputs": [],
   "source": [
    "train_model(model_28, train_dl_28, num_epochs=150)"
   ]
  },
  {
   "cell_type": "code",
   "execution_count": 134,
   "id": "d2c4ecaa",
   "metadata": {},
   "outputs": [
    {
     "name": "stdout",
     "output_type": "stream",
     "text": [
      "AUC: 0.5524\n"
     ]
    }
   ],
   "source": [
    "evaluate_model(model_28, test_dl_28)"
   ]
  },
  {
   "cell_type": "code",
   "execution_count": 163,
   "id": "87a2a59e",
   "metadata": {},
   "outputs": [
    {
     "name": "stdout",
     "output_type": "stream",
     "text": [
      "Run 1: AUC = 0.5017\n",
      "Run 2: AUC = 0.5324\n",
      "Run 3: AUC = 0.5442\n",
      "Run 4: AUC = 0.5530\n",
      "Run 5: AUC = 0.4620\n",
      "Run 6: AUC = 0.5480\n",
      "Run 7: AUC = 0.5488\n",
      "Run 8: AUC = 0.5016\n",
      "Run 9: AUC = 0.5781\n",
      "Run 10: AUC = 0.5610\n",
      "\n",
      "Average AUC: 0.5331\n",
      "Standard Deviation of AUC: 0.0329\n"
     ]
    }
   ],
   "source": [
    "auc_values_28 = []\n",
    "\n",
    "# Perform 10 training runs\n",
    "for i in range(10):\n",
    "    model_28 = Logistic_Regression(28)\n",
    "    train_model(model_28, train_dl_28, num_epochs=150)\n",
    "\n",
    "    # Evaluate the model\n",
    "    model_28.eval()\n",
    "    y_true = []\n",
    "    y_pred = []\n",
    "    with torch.no_grad():\n",
    "        for inputs, labels in test_dl_28:\n",
    "            outputs = model_28(inputs.float())\n",
    "            y_true.extend(labels.numpy())\n",
    "            y_pred.extend(outputs.numpy().flatten())\n",
    "    auc_28 = roc_auc_score(y_true, y_pred)\n",
    "    auc_values_28.append(auc_28)  # Append AUC to the list\n",
    "    print(f\"Run {i+1}: AUC = {auc_28:.4f}\")\n",
    "\n",
    "# Calculate the average AUC\n",
    "average_auc_28 = np.mean(auc_values_28)\n",
    "print(f\"\\nAverage AUC: {average_auc_28:.4f}\")\n",
    "\n",
    "# Calculate the std AUC\n",
    "auc_std_dev_28 = np.std(auc_values_28)\n",
    "print(f\"Standard Deviation of AUC: {auc_std_dev_28:.4f}\")"
   ]
  },
  {
   "cell_type": "markdown",
   "id": "8e8662e1",
   "metadata": {},
   "source": [
    "### Evaluate for 454 text features  ###"
   ]
  },
  {
   "cell_type": "code",
   "execution_count": 101,
   "id": "868be1b0",
   "metadata": {},
   "outputs": [],
   "source": [
    "model_454 = Logistic_Regression(454)"
   ]
  },
  {
   "cell_type": "code",
   "execution_count": 102,
   "id": "ab36d91c",
   "metadata": {},
   "outputs": [],
   "source": [
    "train_model(model_454, train_dl_454, num_epochs=150)"
   ]
  },
  {
   "cell_type": "code",
   "execution_count": 103,
   "id": "4a8e7180",
   "metadata": {},
   "outputs": [
    {
     "name": "stdout",
     "output_type": "stream",
     "text": [
      "AUC: 0.5090\n"
     ]
    }
   ],
   "source": [
    "evaluate_model(model_454, test_dl_454)"
   ]
  },
  {
   "cell_type": "code",
   "execution_count": 164,
   "id": "86782923",
   "metadata": {},
   "outputs": [
    {
     "name": "stdout",
     "output_type": "stream",
     "text": [
      "Run 1: AUC = 0.4862\n",
      "Run 2: AUC = 0.5117\n",
      "Run 3: AUC = 0.4952\n",
      "Run 4: AUC = 0.5015\n",
      "Run 5: AUC = 0.5094\n",
      "Run 6: AUC = 0.5283\n",
      "Run 7: AUC = 0.5126\n",
      "Run 8: AUC = 0.5163\n",
      "Run 9: AUC = 0.5129\n",
      "Run 10: AUC = 0.5102\n",
      "\n",
      "Average AUC: 0.5084\n",
      "Standard Deviation of AUC: 0.0111\n"
     ]
    }
   ],
   "source": [
    "auc_values_454 = []\n",
    "\n",
    "# Perform 10 training runs\n",
    "for i in range(10):\n",
    "    model_454 = Logistic_Regression(454)\n",
    "    train_model(model_454, train_dl_454, num_epochs=150)\n",
    "\n",
    "    # Evaluate the model\n",
    "    model_454.eval()\n",
    "    y_true = []\n",
    "    y_pred = []\n",
    "    with torch.no_grad():\n",
    "        for inputs, labels in test_dl_454:\n",
    "            outputs = model_454(inputs.float())\n",
    "            y_true.extend(labels.numpy())\n",
    "            y_pred.extend(outputs.numpy().flatten())\n",
    "    auc_454 = roc_auc_score(y_true, y_pred)\n",
    "    auc_values_454.append(auc_454)  # Append AUC to the list\n",
    "    print(f\"Run {i+1}: AUC = {auc_454:.4f}\")\n",
    "\n",
    "# Calculate the average AUC\n",
    "average_auc_454 = np.mean(auc_values_454)\n",
    "print(f\"\\nAverage AUC: {average_auc_454:.4f}\")\n",
    "\n",
    "auc_std_dev_454 = np.std(auc_values_454)\n",
    "print(f\"Standard Deviation of AUC: {auc_std_dev_454:.4f}\")"
   ]
  },
  {
   "cell_type": "markdown",
   "id": "72c77cd5",
   "metadata": {},
   "source": [
    "### Evaluate for 14 financial ratios"
   ]
  },
  {
   "cell_type": "code",
   "execution_count": 105,
   "id": "752311bc",
   "metadata": {},
   "outputs": [],
   "source": [
    "model_14 = Logistic_Regression(14)"
   ]
  },
  {
   "cell_type": "code",
   "execution_count": 106,
   "id": "1e528e94",
   "metadata": {},
   "outputs": [],
   "source": [
    "train_model(model_14, train_dl_14, num_epochs=150)"
   ]
  },
  {
   "cell_type": "code",
   "execution_count": 107,
   "id": "47ad2a3b",
   "metadata": {},
   "outputs": [
    {
     "name": "stdout",
     "output_type": "stream",
     "text": [
      "AUC: 0.5875\n"
     ]
    }
   ],
   "source": [
    "evaluate_model(model_14, test_dl_14)"
   ]
  },
  {
   "cell_type": "code",
   "execution_count": 108,
   "id": "5bf20a95",
   "metadata": {},
   "outputs": [
    {
     "name": "stdout",
     "output_type": "stream",
     "text": [
      "Run 1: AUC = 0.4933\n",
      "Run 2: AUC = 0.5095\n",
      "Run 3: AUC = 0.4803\n",
      "Run 4: AUC = 0.4797\n",
      "Run 5: AUC = 0.5187\n",
      "Run 6: AUC = 0.5887\n",
      "Run 7: AUC = 0.5929\n",
      "Run 8: AUC = 0.5132\n",
      "Run 9: AUC = 0.4839\n",
      "Run 10: AUC = 0.5904\n",
      "\n",
      "Average AUC: 0.5251\n",
      "Standard Deviation of AUC: 0.0449\n"
     ]
    }
   ],
   "source": [
    "auc_values_14 = []\n",
    "\n",
    "# Perform 10 training runs\n",
    "for i in range(10):\n",
    "    model_14 = Logistic_Regression(14)\n",
    "    train_model(model_14, train_dl_14, num_epochs=150)\n",
    "\n",
    "    # Evaluate the model\n",
    "    model_14.eval()\n",
    "    y_true = []\n",
    "    y_pred = []\n",
    "    with torch.no_grad():\n",
    "        for inputs, labels in test_dl_14:\n",
    "            outputs = model_14(inputs.float())\n",
    "            y_true.extend(labels.numpy())\n",
    "            y_pred.extend(outputs.numpy().flatten())\n",
    "    auc_14 = roc_auc_score(y_true, y_pred)\n",
    "    auc_values_14.append(auc_14)  # Append AUC to the list\n",
    "    print(f\"Run {i+1}: AUC = {auc_14:.4f}\")\n",
    "\n",
    "# Calculate the average AUC\n",
    "average_auc_14 = np.mean(auc_values_14)\n",
    "print(f\"\\nAverage AUC: {average_auc_14:.4f}\")\n",
    "\n",
    "auc_std_dev_14 = np.std(auc_values_14)\n",
    "print(f\"Standard Deviation of AUC: {auc_std_dev_14:.4f}\")"
   ]
  },
  {
   "cell_type": "markdown",
   "id": "f56bdc9b",
   "metadata": {},
   "source": [
    "### Evaluate for 28 raw items and 14 financial ratios"
   ]
  },
  {
   "cell_type": "code",
   "execution_count": 127,
   "id": "3fcfc6b5",
   "metadata": {},
   "outputs": [],
   "source": [
    "model_42 = Logistic_Regression(42)"
   ]
  },
  {
   "cell_type": "code",
   "execution_count": 128,
   "id": "458844fc",
   "metadata": {},
   "outputs": [],
   "source": [
    "train_model(model_42, train_dl_42, num_epochs=150)\n"
   ]
  },
  {
   "cell_type": "code",
   "execution_count": 129,
   "id": "5aac6445",
   "metadata": {},
   "outputs": [
    {
     "name": "stdout",
     "output_type": "stream",
     "text": [
      "AUC: 0.5785\n"
     ]
    }
   ],
   "source": [
    "evaluate_model(model_42, test_dl_42)"
   ]
  },
  {
   "cell_type": "code",
   "execution_count": 130,
   "id": "937dcb49",
   "metadata": {},
   "outputs": [
    {
     "name": "stdout",
     "output_type": "stream",
     "text": [
      "Run 1: AUC = 0.5785\n",
      "Run 2: AUC = 0.5786\n",
      "Run 3: AUC = 0.5784\n",
      "Run 4: AUC = 0.5781\n",
      "Run 5: AUC = 0.5781\n",
      "Run 6: AUC = 0.5784\n",
      "Run 7: AUC = 0.5785\n",
      "Run 8: AUC = 0.5784\n",
      "Run 9: AUC = 0.5783\n",
      "Run 10: AUC = 0.5784\n",
      "\n",
      "Average AUC: 0.5784\n",
      "Standard Deviation of AUC: 0.0001\n"
     ]
    }
   ],
   "source": [
    "auc_values = []\n",
    "\n",
    "# Perform 10 training runs\n",
    "for i in range(10):\n",
    "    model_42 = Logistic_Regression(42)\n",
    "    train_model(model_42, train_dl_42, num_epochs=150)\n",
    "\n",
    "    # Evaluate the model\n",
    "    model_42.eval()\n",
    "    y_true = []\n",
    "    y_pred = []\n",
    "    with torch.no_grad():\n",
    "        for inputs, labels in test_dl_42:\n",
    "            outputs = model_42(inputs.float())\n",
    "            y_true.extend(labels.numpy())\n",
    "            y_pred.extend(outputs.numpy().flatten())\n",
    "    auc = roc_auc_score(y_true, y_pred)\n",
    "    auc_values.append(auc)  # Append AUC to the list\n",
    "    print(f\"Run {i+1}: AUC = {auc:.4f}\")\n",
    "\n",
    "# Calculate the average AUC\n",
    "average_auc = np.mean(auc_values)\n",
    "print(f\"\\nAverage AUC: {average_auc:.4f}\")\n",
    "\n",
    "# Calculate the std AUC\n",
    "auc_std_dev = np.std(auc_values)\n",
    "print(f\"Standard Deviation of AUC: {auc_std_dev:.4f}\")"
   ]
  },
  {
   "cell_type": "markdown",
   "id": "71778ec4",
   "metadata": {},
   "source": [
    "### Evaluate for 28 raw items and 454 text features"
   ]
  },
  {
   "cell_type": "code",
   "execution_count": 153,
   "id": "d062c2a5",
   "metadata": {},
   "outputs": [],
   "source": [
    "model_482 = Logistic_Regression(482)"
   ]
  },
  {
   "cell_type": "code",
   "execution_count": 154,
   "id": "e354983d",
   "metadata": {},
   "outputs": [],
   "source": [
    "train_model(model_482, train_dl_482, num_epochs=150)"
   ]
  },
  {
   "cell_type": "code",
   "execution_count": 155,
   "id": "057b9cac",
   "metadata": {},
   "outputs": [
    {
     "name": "stdout",
     "output_type": "stream",
     "text": [
      "AUC: 0.5262\n"
     ]
    }
   ],
   "source": [
    "evaluate_model(model_482, test_dl_482)"
   ]
  },
  {
   "cell_type": "code",
   "execution_count": 165,
   "id": "26935934",
   "metadata": {},
   "outputs": [
    {
     "name": "stdout",
     "output_type": "stream",
     "text": [
      "Run 1: AUC = 0.5375\n",
      "Run 2: AUC = 0.4756\n",
      "Run 3: AUC = 0.5341\n",
      "Run 4: AUC = 0.5371\n",
      "Run 5: AUC = 0.5371\n",
      "Run 6: AUC = 0.5145\n",
      "Run 7: AUC = 0.5378\n",
      "Run 8: AUC = 0.5152\n",
      "Run 9: AUC = 0.5216\n",
      "Run 10: AUC = 0.5366\n",
      "\n",
      "Average AUC: 0.5247\n",
      "Standard Deviation of AUC: 0.0187\n"
     ]
    }
   ],
   "source": [
    "auc_values = []\n",
    "\n",
    "# Perform 10 training runs\n",
    "for i in range(10):\n",
    "    model_482 = Logistic_Regression(482)\n",
    "    train_model(model_482, train_dl_482, num_epochs=150)\n",
    "\n",
    "    # Evaluate the model\n",
    "    model_482.eval()\n",
    "    y_true = []\n",
    "    y_pred = []\n",
    "    with torch.no_grad():\n",
    "        for inputs, labels in test_dl_482:\n",
    "            outputs = model_482(inputs.float())\n",
    "            y_true.extend(labels.numpy())\n",
    "            y_pred.extend(outputs.numpy().flatten())\n",
    "    auc = roc_auc_score(y_true, y_pred)\n",
    "    auc_values.append(auc)  # Append AUC to the list\n",
    "    print(f\"Run {i+1}: AUC = {auc:.4f}\")\n",
    "\n",
    "# Calculate the average AUC\n",
    "average_auc = np.mean(auc_values)\n",
    "print(f\"\\nAverage AUC: {average_auc:.4f}\")\n",
    "\n",
    "# Calculate the std AUC\n",
    "auc_std_dev = np.std(auc_values)\n",
    "print(f\"Standard Deviation of AUC: {auc_std_dev:.4f}\")"
   ]
  },
  {
   "cell_type": "markdown",
   "id": "86badc8c",
   "metadata": {},
   "source": [
    "### Evaluate for 14 financial ratios and 454 text features"
   ]
  },
  {
   "cell_type": "code",
   "execution_count": 157,
   "id": "53cf9d2e",
   "metadata": {},
   "outputs": [],
   "source": [
    "model_468 = Logistic_Regression(468)"
   ]
  },
  {
   "cell_type": "code",
   "execution_count": 158,
   "id": "feb646bd",
   "metadata": {},
   "outputs": [],
   "source": [
    "train_model(model_468, train_dl_468, num_epochs=150)"
   ]
  },
  {
   "cell_type": "code",
   "execution_count": 159,
   "id": "74f8a090",
   "metadata": {},
   "outputs": [
    {
     "name": "stdout",
     "output_type": "stream",
     "text": [
      "AUC: 0.5795\n"
     ]
    }
   ],
   "source": [
    "evaluate_model(model_468, test_dl_468)"
   ]
  },
  {
   "cell_type": "code",
   "execution_count": 161,
   "id": "fa1db597",
   "metadata": {},
   "outputs": [
    {
     "name": "stdout",
     "output_type": "stream",
     "text": [
      "Run 1: AUC = 0.5841\n",
      "Run 2: AUC = 0.6044\n",
      "Run 3: AUC = 0.5799\n",
      "Run 4: AUC = 0.5685\n",
      "Run 5: AUC = 0.5992\n",
      "Run 6: AUC = 0.5990\n",
      "Run 7: AUC = 0.5850\n",
      "Run 8: AUC = 0.5947\n",
      "Run 9: AUC = 0.5939\n",
      "Run 10: AUC = 0.5747\n",
      "\n",
      "Average AUC: 0.5883\n",
      "Standard Deviation of AUC: 0.0111\n"
     ]
    }
   ],
   "source": [
    "auc_values = []\n",
    "\n",
    "# Perform 10 training runs\n",
    "for i in range(10):\n",
    "    model_468 = Logistic_Regression(468)\n",
    "    train_model(model_468, train_dl_468, num_epochs=150)\n",
    "\n",
    "    # Evaluate the model\n",
    "    model_468.eval()\n",
    "    y_true = []\n",
    "    y_pred = []\n",
    "    with torch.no_grad():\n",
    "        for inputs, labels in test_dl_468:\n",
    "            outputs = model_468(inputs.float())\n",
    "            y_true.extend(labels.numpy())\n",
    "            y_pred.extend(outputs.numpy().flatten())\n",
    "    auc = roc_auc_score(y_true, y_pred)\n",
    "    auc_values.append(auc)  # Append AUC to the list\n",
    "    print(f\"Run {i+1}: AUC = {auc:.4f}\")\n",
    "\n",
    "# Calculate the average AUC\n",
    "average_auc = np.mean(auc_values)\n",
    "print(f\"\\nAverage AUC: {average_auc:.4f}\")\n",
    "\n",
    "# Calculate the std AUC\n",
    "auc_std_dev = np.std(auc_values)\n",
    "print(f\"Standard Deviation of AUC: {auc_std_dev:.4f}\")"
   ]
  },
  {
   "cell_type": "code",
   "execution_count": null,
   "id": "09437288",
   "metadata": {},
   "outputs": [],
   "source": []
  }
 ],
 "metadata": {
  "kernelspec": {
   "display_name": "Python 3 (ipykernel)",
   "language": "python",
   "name": "python3"
  },
  "language_info": {
   "codemirror_mode": {
    "name": "ipython",
    "version": 3
   },
   "file_extension": ".py",
   "mimetype": "text/x-python",
   "name": "python",
   "nbconvert_exporter": "python",
   "pygments_lexer": "ipython3",
   "version": "3.11.5"
  }
 },
 "nbformat": 4,
 "nbformat_minor": 5
}
